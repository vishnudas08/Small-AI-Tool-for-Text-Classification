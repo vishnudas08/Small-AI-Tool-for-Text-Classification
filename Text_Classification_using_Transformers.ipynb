{
  "nbformat": 4,
  "nbformat_minor": 0,
  "metadata": {
    "colab": {
      "provenance": [],
      "gpuType": "T4",
      "authorship_tag": "ABX9TyOrszaQH4q0PyzKS0aCZsTE",
      "include_colab_link": true
    },
    "kernelspec": {
      "name": "python3",
      "display_name": "Python 3"
    },
    "language_info": {
      "name": "python"
    },
    "accelerator": "GPU"
  },
  "cells": [
    {
      "cell_type": "markdown",
      "metadata": {
        "id": "view-in-github",
        "colab_type": "text"
      },
      "source": [
        "<a href=\"https://colab.research.google.com/github/vishnudas08/Small-AI-Tool-for-Text-Classification/blob/main/Text_Classification_using_Transformers.ipynb\" target=\"_parent\"><img src=\"https://colab.research.google.com/assets/colab-badge.svg\" alt=\"Open In Colab\"/></a>"
      ]
    },
    {
      "cell_type": "code",
      "execution_count": null,
      "metadata": {
        "id": "UEBfZWKdpH4F"
      },
      "outputs": [],
      "source": [
        "import transformers\n",
        "import torch\n",
        "import torch.nn as nn\n",
        "import torch.nn as nn\n",
        "import torch.optim as optim\n",
        "import numpy as np\n",
        "import pandas as pd"
      ]
    },
    {
      "cell_type": "code",
      "source": [
        "train_df= pd.read_csv('/content/train.csv')\n",
        "test_df= pd.read_csv('/content/test.csv')\n",
        "train_df.columns\n",
        "train_df['Class Index'].value_counts()"
      ],
      "metadata": {
        "id": "NVXVwAXBpPoZ"
      },
      "execution_count": null,
      "outputs": []
    },
    {
      "cell_type": "code",
      "source": [
        "min_samples_per_class = train_df['Class Index'].value_counts().min()\n",
        "print(min_samples_per_class)\n",
        "samples_per_class = min(min_samples_per_class, 807)"
      ],
      "metadata": {
        "id": "1J3svFcXpPu4"
      },
      "execution_count": null,
      "outputs": []
    },
    {
      "cell_type": "code",
      "source": [
        "from sklearn.utils import resample\n",
        "\n",
        "train_df_reduced = (train_df\n",
        "                    .groupby('Class Index', group_keys=False)\n",
        "                    .apply(lambda x: resample(x, replace=False, n_samples=samples_per_class, random_state=42))\n",
        "                    .reset_index(drop=True))\n",
        "train_df_reduced"
      ],
      "metadata": {
        "id": "vtqeHGxnpPy2"
      },
      "execution_count": null,
      "outputs": []
    },
    {
      "cell_type": "code",
      "source": [
        "dict={1:0,2:1,3:2,4:3}\n",
        "train_df_reduced['Class Index']= train_df_reduced['Class Index'].map(dict)\n",
        "\n",
        "train_df_reduced['Class Index'].value_counts()"
      ],
      "metadata": {
        "id": "7hyEApGcpP3P"
      },
      "execution_count": null,
      "outputs": []
    },
    {
      "cell_type": "code",
      "source": [
        "train_df_reduced= train_df_reduced.drop('Title', axis=1)"
      ],
      "metadata": {
        "id": "60F4w6NppP6y"
      },
      "execution_count": null,
      "outputs": []
    },
    {
      "cell_type": "code",
      "source": [
        "train_df_reduced"
      ],
      "metadata": {
        "id": "VyrukqrFpQJg"
      },
      "execution_count": null,
      "outputs": []
    },
    {
      "cell_type": "code",
      "source": [
        "print(train_df_reduced)"
      ],
      "metadata": {
        "id": "-USoMvQBpQM0"
      },
      "execution_count": null,
      "outputs": []
    },
    {
      "cell_type": "code",
      "source": [
        "device = torch.device(\"cuda\" if torch.cuda.is_available() else \"cpu\")\n",
        "device"
      ],
      "metadata": {
        "id": "wVmDb8IQpQRX"
      },
      "execution_count": null,
      "outputs": []
    },
    {
      "cell_type": "code",
      "source": [
        "from sklearn.model_selection import train_test_split\n",
        "X_train, X_test, y_train, y_test = train_test_split(train_df_reduced[\"Description\"],train_df_reduced['Class Index'] , test_size=0.2, random_state=42)"
      ],
      "metadata": {
        "id": "uRwNAs6ApQWA"
      },
      "execution_count": null,
      "outputs": []
    },
    {
      "cell_type": "code",
      "source": [
        "len(X_train), len(y_train)"
      ],
      "metadata": {
        "id": "edLZZ6ZHp1Ii"
      },
      "execution_count": null,
      "outputs": []
    },
    {
      "cell_type": "code",
      "source": [
        "num_classes=  train_df_reduced['Class Index'].nunique()\n",
        "\n",
        "num_classes"
      ],
      "metadata": {
        "id": "7ChRX2jop1NO"
      },
      "execution_count": null,
      "outputs": []
    },
    {
      "cell_type": "code",
      "source": [
        "from transformers import logging\n",
        "logging.set_verbosity_error()\n",
        "\n",
        "from transformers import BertModel, BertTokenizer\n",
        "from torch.utils.data import DataLoader\n",
        "tokenizer= BertTokenizer.from_pretrained('bert-base-uncased')"
      ],
      "metadata": {
        "id": "TJXioUWSp1Qi"
      },
      "execution_count": null,
      "outputs": []
    },
    {
      "cell_type": "code",
      "source": [
        "def tokenizer_fn(text,label):\n",
        "  inputs= tokenizer(text, padding='max_length', truncation=True, max_length=512, return_tensors='pt')\n",
        "  return torch.tensor(inputs['input_ids']), torch.tensor(inputs['attention_mask']), torch.tensor(label, dtype=torch.long)\n",
        "print(tokenizer_fn(['manu bhaker won the two olympic gold medals'] ,[0,1,2,3]))"
      ],
      "metadata": {
        "collapsed": true,
        "id": "CGf17RlVp1U6"
      },
      "execution_count": null,
      "outputs": []
    },
    {
      "cell_type": "code",
      "source": [
        "train_input_ids,  train_attention_mask, train_labels  =tokenizer_fn(X_train.values.tolist(), y_train.tolist())\n",
        "test_inputs_ids, test_attention_mask, test_labels = tokenizer_fn(X_test.values.tolist(), y_test.tolist())"
      ],
      "metadata": {
        "id": "ETN8hIYQp1X_"
      },
      "execution_count": null,
      "outputs": []
    },
    {
      "cell_type": "code",
      "source": [
        "train_dataset= torch.utils.data.TensorDataset(train_input_ids, train_attention_mask, train_labels)\n",
        "val_dataset= torch.utils.data.TensorDataset(test_inputs_ids, test_attention_mask, test_labels)"
      ],
      "metadata": {
        "id": "PwouMNRqqIbJ"
      },
      "execution_count": null,
      "outputs": []
    },
    {
      "cell_type": "code",
      "source": [
        "train_dataLoader=DataLoader(train_dataset, batch_size=128, shuffle=True)\n",
        "val_dataLoader=DataLoader(val_dataset, batch_size=128, shuffle=False)"
      ],
      "metadata": {
        "id": "CVfn8MkzqIjN"
      },
      "execution_count": null,
      "outputs": []
    },
    {
      "cell_type": "code",
      "source": [
        "from transformers import logging\n",
        "logging.set_verbosity_error()\n",
        "from transformers import BertModel\n",
        "\n",
        "bert = BertModel.from_pretrained('bert-base-uncased', output_loading_info=False)\n",
        "print(bert.config.hidden_size)  # This prints 768 without rendering widgets\n"
      ],
      "metadata": {
        "id": "_rGhwdE2vGt-"
      },
      "execution_count": null,
      "outputs": []
    },
    {
      "cell_type": "code",
      "source": [
        "#bert= BertModel.from_pretrained('bert-base-uncased')\n",
        "#bert.config.hidden_size"
      ],
      "metadata": {
        "id": "OBoFpZ_AqImV"
      },
      "execution_count": null,
      "outputs": []
    },
    {
      "cell_type": "code",
      "source": [
        "print(\"Train labels:\", torch.unique(train_labels))"
      ],
      "metadata": {
        "id": "nafaFq84qIp1"
      },
      "execution_count": null,
      "outputs": []
    },
    {
      "cell_type": "code",
      "source": [
        "class textClassifier(nn.Module):\n",
        "  def __init__(self, num_classes):\n",
        "    super(). __init__()\n",
        "    self.bert= BertModel.from_pretrained('bert-base-uncased')\n",
        "\n",
        "    for param in self.bert.parameters():\n",
        "      param.requires_grad=False\n",
        "    self.classifier= nn.Sequential(\n",
        "        nn.Linear(self.bert.config.hidden_size, 256),\n",
        "    nn.ReLU(),\n",
        "    nn.Dropout(0.2),\n",
        "    nn.Linear(256,num_classes),\n",
        "\n",
        "\n",
        "\n",
        "    )\n",
        "  def forward(self,input_ids, attention_mask):\n",
        "    bert_output= self.bert(input_ids=input_ids,attention_mask=attention_mask)\n",
        "    sentence_embedding= bert_output.last_hidden_state[:,0,:]\n",
        "    return self.classifier(sentence_embedding)"
      ],
      "metadata": {
        "id": "I_0dbOghqIs1"
      },
      "execution_count": null,
      "outputs": []
    },
    {
      "cell_type": "code",
      "source": [
        "model= textClassifier(num_classes=4).to(device)\n",
        "optimizer= optim.Adam(model.parameters(), lr=0.001)\n",
        "criterion= nn.CrossEntropyLoss()\n",
        "print(model)"
      ],
      "metadata": {
        "collapsed": true,
        "id": "BKTGqHLtqIwK"
      },
      "execution_count": null,
      "outputs": []
    },
    {
      "cell_type": "code",
      "source": [
        "epochs=2\n",
        "for epoch in range(epochs):\n",
        "  model.train()\n",
        "  total_train_loss=0\n",
        "\n",
        "  for batch, (input_ids, attention_mask, labels) in enumerate(train_dataLoader):\n",
        "    input_ids, attention_mask, labels= input_ids.to(device), attention_mask.to(device), labels.to(device)\n",
        "    optimizer.zero_grad()\n",
        "    outputs= model(input_ids, attention_mask).squeeze()\n",
        "    loss= criterion(outputs, labels)\n",
        "    loss.backward()\n",
        "    optimizer.step()\n",
        "    print(f\"Batch : {batch} epoch {epoch}, loss {loss.item():0.2f}\")\n",
        "    total_train_loss+= loss.item()\n",
        "avg_train_loss= total_train_loss/len(train_dataLoader)\n",
        "print(f\" epoch {epoch +1}/{epochs}, Training loss : {avg_train_loss}\")"
      ],
      "metadata": {
        "id": "YDD3X-83qIzq"
      },
      "execution_count": null,
      "outputs": []
    },
    {
      "cell_type": "code",
      "source": [
        "model.eval()\n",
        "total_val_loss=0\n",
        "correct_predicted=0\n",
        "\n",
        "with torch.no_grad():\n",
        "  for input_ids, attention_mask, labels in val_dataLoader:\n",
        "    input_ids, attention_mask, labels= input_ids.to(device), attention_mask.to(device), labels.to(device)\n",
        "    outputs= model(input_ids, attention_mask).squeeze()\n",
        "    loss= criterion(outputs, labels)\n",
        "    total_val_loss += loss.item()\n",
        "    pred= torch.argmax(outputs, dim=1)\n",
        "    correct_predicted= torch.sum(pred == labels)\n",
        "avg_val_loss= total_val_loss/ len(val_dataLoader)\n",
        "val_accuracy= correct_predicted/ len(val_dataset)\n",
        "print(f\"validation loss{avg_val_loss},  val accuracy {val_accuracy}\")"
      ],
      "metadata": {
        "id": "IdjJ_SGLqfw0"
      },
      "execution_count": null,
      "outputs": []
    },
    {
      "cell_type": "code",
      "source": [
        "label_map= {\n",
        "    0: \"World\",\n",
        "    1: \"Sports\",\n",
        "    2: \"Business\",\n",
        "    3: \"Sci/Tech\"\n",
        "}"
      ],
      "metadata": {
        "id": "HJaglv70qgFa"
      },
      "execution_count": null,
      "outputs": []
    },
    {
      "cell_type": "code",
      "source": [
        "import warnings\n",
        "warnings.filterwarnings('ignore')\n"
      ],
      "metadata": {
        "id": "qa_BlUsksD0Z"
      },
      "execution_count": null,
      "outputs": []
    },
    {
      "cell_type": "code",
      "source": [
        "para=\"\"\"The 1936 Berlin Olympics stands as one of the most iconic moments in Indian sports history. Under the captaincy of Dhyan Chand, the Indian men’s hockey team delivered a masterclass in skill and dominance, defeating Germany 8–1 in the final — all in front of a massive crowd, including Adolf Hitler himself.\n",
        "\n",
        "Held in Nazi Germany, the Games were used as a propaganda tool by Hitler to showcase Aryan supremacy. However, India’s resounding victory disrupted that narrative. Dhyan Chand, often called the \"Wizard of Hockey,\" scored three goals in the final, mesmerizing the crowd with his dribbling and control.\n",
        "\n",
        "Legend has it that Hitler was so impressed by Dhyan Chand’s performance that he offered him a high-ranking position in the German army — which Dhyan Chand politely declined.\n",
        "\n",
        "This match wasn't just a sporting win — it was a symbolic moment of pride for a colonized India, proving its excellence on a global stage during one of the most politically charged Olympics in history.\"\"\"\n",
        "para"
      ],
      "metadata": {
        "id": "cg9tdJRhqgNh"
      },
      "execution_count": null,
      "outputs": []
    },
    {
      "cell_type": "code",
      "source": [
        "def predict(text):\n",
        "    model.eval()\n",
        "    inputs = tokenizer(text, return_tensors=\"pt\", padding='max_length', truncation=True, max_length=128)\n",
        "    input_ids = inputs['input_ids'].to(device)\n",
        "    attention_mask = inputs['attention_mask'].to(device)\n",
        "\n",
        "    with torch.no_grad():\n",
        "        outputs = model(input_ids, attention_mask).float()\n",
        "        predicted_class = torch.argmax(outputs, dim=1).item()\n",
        "        return label_map[predicted_class]\n",
        "\n",
        "#print(predict(\"manu bhaker won the two olympic gold medals\"))\n",
        "#print(predict(\"vishnu has discover tech solution for coolent in data centers\"))\n",
        "print(predict(para))"
      ],
      "metadata": {
        "id": "wHUOzrUxqgQ5"
      },
      "execution_count": null,
      "outputs": []
    },
    {
      "cell_type": "code",
      "source": [],
      "metadata": {
        "id": "d1gs7_wLqwJc"
      },
      "execution_count": null,
      "outputs": []
    }
  ]
}